{
 "cells": [
  {
   "cell_type": "markdown",
   "id": "5aa0300c-946e-4d44-ab32-ff2bb5bf1bb7",
   "metadata": {},
   "source": [
    "# Q1. Explain Class and Object with respect to Object-Oriented Programming. Give a suitable example."
   ]
  },
  {
   "cell_type": "markdown",
   "id": "9d8dcfe9-a6e9-4bfd-837d-fb57a6b33f13",
   "metadata": {
    "tags": []
   },
   "source": [
    "#### In object-oriented programming (OOP), a class is a blueprint or a template that defines the characteristics and behaviors (methods and properties) that an object of that class should have. It defines the structure and functionality of objects, including their attributes (data) and methods (functions). A class acts as a blueprint from which objects can be created.\n",
    "\n",
    "#### An object, on the other hand, is an instance of a class. It represents a specific entity or concept in the real world that the class models. Objects are created based on the defined class, and each object possesses its own set of attributes and can perform actions through its methods. Objects are the fundamental building blocks of OOP, and they encapsulate both data and behavior."
   ]
  },
  {
   "cell_type": "code",
   "execution_count": null,
   "id": "bd61b465-2fa7-4908-8ca7-78f065aabbad",
   "metadata": {},
   "outputs": [
    {
     "name": "stdout",
     "output_type": "stream",
     "text": [
      "5\n",
      "7.5\n",
      "78.53981633974483\n",
      "47.12388980384689\n"
     ]
    }
   ],
   "source": [
    "import math\n",
    "\n",
    "class Circle:\n",
    "    def __init__(self, radius):\n",
    "        self.radius = radius\n",
    "\n",
    "    def calculate_area(self):\n",
    "        area = math.pi * (self.radius ** 2)\n",
    "        return area\n",
    "\n",
    "    def calculate_circumference(self):\n",
    "        circumference = 2 * math.pi * self.radius\n",
    "        return circumference\n",
    "\n",
    "# Creating objects of the Circle class\n",
    "circle1 = Circle(5)\n",
    "circle2 = Circle(7.5)\n",
    "\n",
    "# Accessing object attributes\n",
    "print(circle1.radius)  # Output: 5\n",
    "print(circle2.radius)  # Output: 7.5\n",
    "\n",
    "# Calling object methods\n",
    "area1 = circle1.calculate_area()\n",
    "print(area1)  # Output: 78.53981633974483\n",
    "\n",
    "circumference2 = circle2.calculate_circumference()\n",
    "print(circumference2)  # Output: 47.12388980384689\n"
   ]
  },
  {
   "cell_type": "code",
   "execution_count": null,
   "id": "c76d8a2a-8c4d-4eb0-a5cf-69fd9f54159e",
   "metadata": {},
   "outputs": [],
   "source": []
  },
  {
   "cell_type": "code",
   "execution_count": null,
   "id": "ce170767-4789-4dbc-91b4-3c9ae2a7616e",
   "metadata": {},
   "outputs": [],
   "source": []
  },
  {
   "cell_type": "markdown",
   "id": "eb570365-0502-4b9f-b1d4-ec915481a58c",
   "metadata": {},
   "source": [
    "# Q2. Name the four pillars of OOPs."
   ]
  },
  {
   "cell_type": "code",
   "execution_count": null,
   "id": "a3b40b31-a9eb-4e94-81f3-4e12ee404cb5",
   "metadata": {},
   "outputs": [],
   "source": []
  }
 ],
 "metadata": {
  "kernelspec": {
   "display_name": "Python 3 (ipykernel)",
   "language": "python",
   "name": "python3"
  },
  "language_info": {
   "codemirror_mode": {
    "name": "ipython",
    "version": 3
   },
   "file_extension": ".py",
   "mimetype": "text/x-python",
   "name": "python",
   "nbconvert_exporter": "python",
   "pygments_lexer": "ipython3",
   "version": "3.10.8"
  }
 },
 "nbformat": 4,
 "nbformat_minor": 5
}
